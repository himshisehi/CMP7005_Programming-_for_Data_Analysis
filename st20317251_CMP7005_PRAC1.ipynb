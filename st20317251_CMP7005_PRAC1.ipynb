{
 "cells": [
  {
   "cell_type": "code",
   "execution_count": 2,
   "id": "479ce507-df1e-4e8d-aa52-82869e1eec94",
   "metadata": {},
   "outputs": [],
   "source": [
    "## Import the necessary Libraries to run the code\n",
    "\n",
    "import numpy as np\n",
    "import matplotlib.pyplot as plt\n",
    "import pandas as pd\n",
    "import numpy as np\n",
    "import seaborn as sns\n",
    "from sklearn import preprocessing\n",
    "import warnings\n",
    "warnings.filterwarnings('ignore')\n",
    "%matplotlib inline"
   ]
  },
  {
   "cell_type": "markdown",
   "id": "577675f3-9406-42d1-a9ac-0d0f50752cf9",
   "metadata": {},
   "source": [
    "Selecting Wanshouxigong as Urban Site, Changping as Suburban Site, Huairou as Rural Site and Guanyuan and Aotizhongxin Industrial site"
   ]
  },
  {
   "cell_type": "code",
   "execution_count": 5,
   "id": "d92bb7ee-b414-460a-92c1-cddad4321cdf",
   "metadata": {},
   "outputs": [],
   "source": [
    "## loading all four datasets here\n",
    "\n",
    "urban_df = pd.read_csv(\"PRSA_Data_Wanshouxigong_20130301-20170228.csv\")\n",
    "suburban_df = pd.read_csv(\"PRSA_Data_Changping_20130301-20170228.csv\")\n",
    "rural_df = pd.read_csv(\"PRSA_Data_Huairou_20130301-20170228.csv\")\n",
    "industrial_df = pd.read_csv(\"PRSA_Data_Aotizhongxin_20130301-20170228.csv\")"
   ]
  },
  {
   "cell_type": "code",
   "execution_count": 6,
   "id": "04ade3b5-db0c-42db-8cf0-b6c7ec79ba6e",
   "metadata": {},
   "outputs": [],
   "source": [
    "## Adding the Category columns gives context to each record for later analysis\n",
    "\n",
    "urban_df['Category'] = 'Urban'\n",
    "suburban_df['Category'] = 'Suburban'\n",
    "rural_df['Category'] = 'Rural'\n",
    "industrial_df['Category'] = 'Industrial'"
   ]
  },
  {
   "cell_type": "code",
   "execution_count": 7,
   "id": "0dbf6aa7-1fcb-4f86-a465-e0cb6da41cd6",
   "metadata": {},
   "outputs": [],
   "source": [
    "### Read and combine all CSV files\n",
    "\n",
    "air_quality_df = pd.concat([urban_df, suburban_df, rural_df, industrial_df], ignore_index=True)"
   ]
  },
  {
   "cell_type": "code",
   "execution_count": 9,
   "id": "6399d44c-bee4-4939-befd-112f276277b1",
   "metadata": {},
   "outputs": [],
   "source": [
    "# Save the merged dataset to a CSV file\n",
    "air_quality_df.to_csv(\"air_quality.csv\", index=False)\n"
   ]
  },
  {
   "cell_type": "code",
   "execution_count": null,
   "id": "ffc9ad70-fc40-415e-a7a3-461dfc586f2c",
   "metadata": {},
   "outputs": [],
   "source": []
  }
 ],
 "metadata": {
  "kernelspec": {
   "display_name": "Python 3 (ipykernel)",
   "language": "python",
   "name": "python3"
  },
  "language_info": {
   "codemirror_mode": {
    "name": "ipython",
    "version": 3
   },
   "file_extension": ".py",
   "mimetype": "text/x-python",
   "name": "python",
   "nbconvert_exporter": "python",
   "pygments_lexer": "ipython3",
   "version": "3.11.9"
  }
 },
 "nbformat": 4,
 "nbformat_minor": 5
}
